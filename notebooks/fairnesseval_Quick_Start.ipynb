{
 "nbformat": 4,
 "nbformat_minor": 0,
 "metadata": {
  "colab": {
   "provenance": [],
   "toc_visible": true
  },
  "kernelspec": {
   "name": "python3",
   "display_name": "Python 3 (ipykernel)",
   "language": "python"
  },
  "language_info": {
   "name": "python"
  }
 },
 "cells": [
  {
   "cell_type": "markdown",
   "source": [
    "# fairnesseval API\n",
    "Note: you can run **[this notebook live in Google Colab](https://colab.research.google.com/github/softlab-unimore/fairnesseval/blob/main/notebooks/fairnesseval%20Quick%20Start.ipynb)**."
   ],
   "metadata": {
    "id": "-D3BoNEC_YSD"
   }
  },
  {
   "cell_type": "code",
   "source": [
    "!pip install git+https://github.com/softlab-unimore/fairnesseval@main"
   ],
   "metadata": {
    "id": "4nCp2TnDIWDN",
    "outputId": "757c8684-b0de-48d9-fff1-b197d71b89df",
    "colab": {
     "base_uri": "https://localhost:8080/"
    },
    "ExecuteTime": {
     "end_time": "2024-10-01T15:24:14.931114Z",
     "start_time": "2024-10-01T15:24:01.767972Z"
    }
   },
   "outputs": [
    {
     "name": "stdout",
     "output_type": "stream",
     "text": [
      "Collecting git+https://github.com/softlab-unimore/fairnesseval@main\n",
      "  Cloning https://github.com/softlab-unimore/fairnesseval (to revision main) to c:\\users\\chiara\\appdata\\local\\temp\\pip-req-build-ewg2wu_3\n",
      "  Resolved https://github.com/softlab-unimore/fairnesseval to commit 21fd554c7724175a478a7fae2face04c69ef1396\n",
      "  Preparing metadata (setup.py): started\n",
      "  Preparing metadata (setup.py): finished with status 'done'\n",
      "Collecting fairlearn@ git+https://github.com/MiroDudik/fairlearn.git@f11f99acd2ba724f9ef885973830d8f3390b0717#egg=fairlearn (from fairnesseval==0.1.0)\n",
      "  Using cached fairlearn-0.9.0.dev0-py3-none-any.whl\n",
      "Collecting fair-classification@ git+https://github.com/baraldian/fair-classification-python3@master (from fairnesseval==0.1.0)\n",
      "  Cloning https://github.com/baraldian/fair-classification-python3 (to revision master) to c:\\users\\chiara\\appdata\\local\\temp\\pip-install-vmiv1_lc\\fair-classification_bdd511c248f343eb8577a5d059754e9e\n",
      "  Resolved https://github.com/baraldian/fair-classification-python3 to commit a7c8a908d18dd86b8591db601691a4e42e75c5dc\n",
      "  Preparing metadata (setup.py): started\n",
      "  Preparing metadata (setup.py): finished with status 'done'\n",
      "Requirement already satisfied: aif360>=0.5.0 in c:\\users\\chiara\\pycharmprojects\\pythonproject\\.venv\\lib\\site-packages (from fairnesseval==0.1.0) (0.6.1)\n",
      "Requirement already satisfied: folktables>=0.0.12 in c:\\users\\chiara\\pycharmprojects\\pythonproject\\.venv\\lib\\site-packages (from fairnesseval==0.1.0) (0.0.12)\n",
      "Requirement already satisfied: matplotlib>=3.7.1 in c:\\users\\chiara\\pycharmprojects\\pythonproject\\.venv\\lib\\site-packages (from fairnesseval==0.1.0) (3.9.2)\n",
      "Requirement already satisfied: numpy<2,>=1.22.4 in c:\\users\\chiara\\pycharmprojects\\pythonproject\\.venv\\lib\\site-packages (from fairnesseval==0.1.0) (1.26.4)\n",
      "Requirement already satisfied: pandas>=1.4.2 in c:\\users\\chiara\\pycharmprojects\\pythonproject\\.venv\\lib\\site-packages (from fairnesseval==0.1.0) (2.2.3)\n",
      "Requirement already satisfied: Requests>=2.31.0 in c:\\users\\chiara\\pycharmprojects\\pythonproject\\.venv\\lib\\site-packages (from fairnesseval==0.1.0) (2.32.3)\n",
      "Requirement already satisfied: scikit_learn>=1.0.2 in c:\\users\\chiara\\pycharmprojects\\pythonproject\\.venv\\lib\\site-packages (from fairnesseval==0.1.0) (1.5.2)\n",
      "Requirement already satisfied: scipy>=1.7.3 in c:\\users\\chiara\\pycharmprojects\\pythonproject\\.venv\\lib\\site-packages (from fairnesseval==0.1.0) (1.13.1)\n",
      "Requirement already satisfied: seaborn>=0.11.2 in c:\\users\\chiara\\pycharmprojects\\pythonproject\\.venv\\lib\\site-packages (from fairnesseval==0.1.0) (0.13.2)\n",
      "Requirement already satisfied: Send2Trash>=1.8.0 in c:\\users\\chiara\\pycharmprojects\\pythonproject\\.venv\\lib\\site-packages (from fairnesseval==0.1.0) (1.8.3)\n",
      "Requirement already satisfied: setuptools>=67.6.1 in c:\\users\\chiara\\pycharmprojects\\pythonproject\\.venv\\lib\\site-packages (from fairnesseval==0.1.0) (68.2.0)\n",
      "Requirement already satisfied: tqdm>=4.64.0 in c:\\users\\chiara\\pycharmprojects\\pythonproject\\.venv\\lib\\site-packages (from fairnesseval==0.1.0) (4.66.5)\n",
      "Requirement already satisfied: cvxpy>=1.4.2 in c:\\users\\chiara\\pycharmprojects\\pythonproject\\.venv\\lib\\site-packages (from fairnesseval==0.1.0) (1.5.3)\n",
      "Requirement already satisfied: dccp in c:\\users\\chiara\\pycharmprojects\\pythonproject\\.venv\\lib\\site-packages (from fairnesseval==0.1.0) (1.0.5)\n",
      "Requirement already satisfied: ipywidgets in c:\\users\\chiara\\pycharmprojects\\pythonproject\\.venv\\lib\\site-packages (from fairnesseval==0.1.0) (8.1.5)\n",
      "Requirement already satisfied: osqp>=0.6.2 in c:\\users\\chiara\\pycharmprojects\\pythonproject\\.venv\\lib\\site-packages (from cvxpy>=1.4.2->fairnesseval==0.1.0) (0.6.7.post1)\n",
      "Requirement already satisfied: ecos>=2 in c:\\users\\chiara\\pycharmprojects\\pythonproject\\.venv\\lib\\site-packages (from cvxpy>=1.4.2->fairnesseval==0.1.0) (2.0.14)\n",
      "Requirement already satisfied: clarabel>=0.5.0 in c:\\users\\chiara\\pycharmprojects\\pythonproject\\.venv\\lib\\site-packages (from cvxpy>=1.4.2->fairnesseval==0.1.0) (0.9.0)\n",
      "Requirement already satisfied: scs>=3.2.4.post1 in c:\\users\\chiara\\pycharmprojects\\pythonproject\\.venv\\lib\\site-packages (from cvxpy>=1.4.2->fairnesseval==0.1.0) (3.2.7)\n",
      "Requirement already satisfied: contourpy>=1.0.1 in c:\\users\\chiara\\pycharmprojects\\pythonproject\\.venv\\lib\\site-packages (from matplotlib>=3.7.1->fairnesseval==0.1.0) (1.3.0)\n",
      "Requirement already satisfied: cycler>=0.10 in c:\\users\\chiara\\pycharmprojects\\pythonproject\\.venv\\lib\\site-packages (from matplotlib>=3.7.1->fairnesseval==0.1.0) (0.12.1)\n",
      "Requirement already satisfied: fonttools>=4.22.0 in c:\\users\\chiara\\pycharmprojects\\pythonproject\\.venv\\lib\\site-packages (from matplotlib>=3.7.1->fairnesseval==0.1.0) (4.54.0)\n",
      "Requirement already satisfied: kiwisolver>=1.3.1 in c:\\users\\chiara\\pycharmprojects\\pythonproject\\.venv\\lib\\site-packages (from matplotlib>=3.7.1->fairnesseval==0.1.0) (1.4.7)\n",
      "Requirement already satisfied: packaging>=20.0 in c:\\users\\chiara\\pycharmprojects\\pythonproject\\.venv\\lib\\site-packages (from matplotlib>=3.7.1->fairnesseval==0.1.0) (24.1)\n",
      "Requirement already satisfied: pillow>=8 in c:\\users\\chiara\\pycharmprojects\\pythonproject\\.venv\\lib\\site-packages (from matplotlib>=3.7.1->fairnesseval==0.1.0) (10.4.0)\n",
      "Requirement already satisfied: pyparsing>=2.3.1 in c:\\users\\chiara\\pycharmprojects\\pythonproject\\.venv\\lib\\site-packages (from matplotlib>=3.7.1->fairnesseval==0.1.0) (3.1.4)\n",
      "Requirement already satisfied: python-dateutil>=2.7 in c:\\users\\chiara\\pycharmprojects\\pythonproject\\.venv\\lib\\site-packages (from matplotlib>=3.7.1->fairnesseval==0.1.0) (2.9.0.post0)\n",
      "Requirement already satisfied: importlib-resources>=3.2.0 in c:\\users\\chiara\\pycharmprojects\\pythonproject\\.venv\\lib\\site-packages (from matplotlib>=3.7.1->fairnesseval==0.1.0) (6.4.5)\n",
      "Requirement already satisfied: pytz>=2020.1 in c:\\users\\chiara\\pycharmprojects\\pythonproject\\.venv\\lib\\site-packages (from pandas>=1.4.2->fairnesseval==0.1.0) (2024.2)\n",
      "Requirement already satisfied: tzdata>=2022.7 in c:\\users\\chiara\\pycharmprojects\\pythonproject\\.venv\\lib\\site-packages (from pandas>=1.4.2->fairnesseval==0.1.0) (2024.1)\n",
      "Requirement already satisfied: charset-normalizer<4,>=2 in c:\\users\\chiara\\pycharmprojects\\pythonproject\\.venv\\lib\\site-packages (from Requests>=2.31.0->fairnesseval==0.1.0) (3.3.2)\n",
      "Requirement already satisfied: idna<4,>=2.5 in c:\\users\\chiara\\pycharmprojects\\pythonproject\\.venv\\lib\\site-packages (from Requests>=2.31.0->fairnesseval==0.1.0) (3.10)\n",
      "Requirement already satisfied: urllib3<3,>=1.21.1 in c:\\users\\chiara\\pycharmprojects\\pythonproject\\.venv\\lib\\site-packages (from Requests>=2.31.0->fairnesseval==0.1.0) (2.2.3)\n",
      "Requirement already satisfied: certifi>=2017.4.17 in c:\\users\\chiara\\pycharmprojects\\pythonproject\\.venv\\lib\\site-packages (from Requests>=2.31.0->fairnesseval==0.1.0) (2024.8.30)\n",
      "Requirement already satisfied: joblib>=1.2.0 in c:\\users\\chiara\\pycharmprojects\\pythonproject\\.venv\\lib\\site-packages (from scikit_learn>=1.0.2->fairnesseval==0.1.0) (1.4.2)\n",
      "Requirement already satisfied: threadpoolctl>=3.1.0 in c:\\users\\chiara\\pycharmprojects\\pythonproject\\.venv\\lib\\site-packages (from scikit_learn>=1.0.2->fairnesseval==0.1.0) (3.5.0)\n",
      "Requirement already satisfied: colorama in c:\\users\\chiara\\pycharmprojects\\pythonproject\\.venv\\lib\\site-packages (from tqdm>=4.64.0->fairnesseval==0.1.0) (0.4.6)\n",
      "Requirement already satisfied: comm>=0.1.3 in c:\\users\\chiara\\pycharmprojects\\pythonproject\\.venv\\lib\\site-packages (from ipywidgets->fairnesseval==0.1.0) (0.2.2)\n",
      "Requirement already satisfied: ipython>=6.1.0 in c:\\users\\chiara\\pycharmprojects\\pythonproject\\.venv\\lib\\site-packages (from ipywidgets->fairnesseval==0.1.0) (8.18.1)\n",
      "Requirement already satisfied: traitlets>=4.3.1 in c:\\users\\chiara\\pycharmprojects\\pythonproject\\.venv\\lib\\site-packages (from ipywidgets->fairnesseval==0.1.0) (5.14.3)\n",
      "Requirement already satisfied: widgetsnbextension~=4.0.12 in c:\\users\\chiara\\pycharmprojects\\pythonproject\\.venv\\lib\\site-packages (from ipywidgets->fairnesseval==0.1.0) (4.0.13)\n",
      "Requirement already satisfied: jupyterlab-widgets~=3.0.12 in c:\\users\\chiara\\pycharmprojects\\pythonproject\\.venv\\lib\\site-packages (from ipywidgets->fairnesseval==0.1.0) (3.0.13)\n",
      "Requirement already satisfied: zipp>=3.1.0 in c:\\users\\chiara\\pycharmprojects\\pythonproject\\.venv\\lib\\site-packages (from importlib-resources>=3.2.0->matplotlib>=3.7.1->fairnesseval==0.1.0) (3.20.2)\n",
      "Requirement already satisfied: decorator in c:\\users\\chiara\\pycharmprojects\\pythonproject\\.venv\\lib\\site-packages (from ipython>=6.1.0->ipywidgets->fairnesseval==0.1.0) (5.1.1)\n",
      "Requirement already satisfied: jedi>=0.16 in c:\\users\\chiara\\pycharmprojects\\pythonproject\\.venv\\lib\\site-packages (from ipython>=6.1.0->ipywidgets->fairnesseval==0.1.0) (0.19.1)\n",
      "Requirement already satisfied: matplotlib-inline in c:\\users\\chiara\\pycharmprojects\\pythonproject\\.venv\\lib\\site-packages (from ipython>=6.1.0->ipywidgets->fairnesseval==0.1.0) (0.1.7)\n",
      "Requirement already satisfied: prompt-toolkit<3.1.0,>=3.0.41 in c:\\users\\chiara\\pycharmprojects\\pythonproject\\.venv\\lib\\site-packages (from ipython>=6.1.0->ipywidgets->fairnesseval==0.1.0) (3.0.47)\n",
      "Requirement already satisfied: pygments>=2.4.0 in c:\\users\\chiara\\pycharmprojects\\pythonproject\\.venv\\lib\\site-packages (from ipython>=6.1.0->ipywidgets->fairnesseval==0.1.0) (2.18.0)\n",
      "Requirement already satisfied: stack-data in c:\\users\\chiara\\pycharmprojects\\pythonproject\\.venv\\lib\\site-packages (from ipython>=6.1.0->ipywidgets->fairnesseval==0.1.0) (0.6.3)\n",
      "Requirement already satisfied: typing-extensions in c:\\users\\chiara\\pycharmprojects\\pythonproject\\.venv\\lib\\site-packages (from ipython>=6.1.0->ipywidgets->fairnesseval==0.1.0) (4.12.2)\n",
      "Requirement already satisfied: exceptiongroup in c:\\users\\chiara\\pycharmprojects\\pythonproject\\.venv\\lib\\site-packages (from ipython>=6.1.0->ipywidgets->fairnesseval==0.1.0) (1.2.2)\n",
      "Requirement already satisfied: qdldl in c:\\users\\chiara\\pycharmprojects\\pythonproject\\.venv\\lib\\site-packages (from osqp>=0.6.2->cvxpy>=1.4.2->fairnesseval==0.1.0) (0.1.7.post4)\n",
      "Requirement already satisfied: six>=1.5 in c:\\users\\chiara\\pycharmprojects\\pythonproject\\.venv\\lib\\site-packages (from python-dateutil>=2.7->matplotlib>=3.7.1->fairnesseval==0.1.0) (1.16.0)\n",
      "Requirement already satisfied: parso<0.9.0,>=0.8.3 in c:\\users\\chiara\\pycharmprojects\\pythonproject\\.venv\\lib\\site-packages (from jedi>=0.16->ipython>=6.1.0->ipywidgets->fairnesseval==0.1.0) (0.8.4)\n",
      "Requirement already satisfied: wcwidth in c:\\users\\chiara\\pycharmprojects\\pythonproject\\.venv\\lib\\site-packages (from prompt-toolkit<3.1.0,>=3.0.41->ipython>=6.1.0->ipywidgets->fairnesseval==0.1.0) (0.2.13)\n",
      "Requirement already satisfied: executing>=1.2.0 in c:\\users\\chiara\\pycharmprojects\\pythonproject\\.venv\\lib\\site-packages (from stack-data->ipython>=6.1.0->ipywidgets->fairnesseval==0.1.0) (2.1.0)\n",
      "Requirement already satisfied: asttokens>=2.1.0 in c:\\users\\chiara\\pycharmprojects\\pythonproject\\.venv\\lib\\site-packages (from stack-data->ipython>=6.1.0->ipywidgets->fairnesseval==0.1.0) (2.4.1)\n",
      "Requirement already satisfied: pure-eval in c:\\users\\chiara\\pycharmprojects\\pythonproject\\.venv\\lib\\site-packages (from stack-data->ipython>=6.1.0->ipywidgets->fairnesseval==0.1.0) (0.2.3)\n"
     ]
    },
    {
     "name": "stderr",
     "output_type": "stream",
     "text": [
      "  Running command git clone --filter=blob:none --quiet https://github.com/softlab-unimore/fairnesseval 'C:\\Users\\Chiara\\AppData\\Local\\Temp\\pip-req-build-ewg2wu_3'\n",
      "  Running command git clone --filter=blob:none --quiet https://github.com/baraldian/fair-classification-python3 'C:\\Users\\Chiara\\AppData\\Local\\Temp\\pip-install-vmiv1_lc\\fair-classification_bdd511c248f343eb8577a5d059754e9e'\n",
      "\n",
      "[notice] A new release of pip is available: 23.2.1 -> 24.2\n",
      "[notice] To update, run: python.exe -m pip install --upgrade pip\n"
     ]
    }
   ],
   "execution_count": 1
  },
  {
   "cell_type": "markdown",
   "source": [
    "### Dataset download\n",
    "The following code will download the datasets following the instructions in aif360 errors.\n",
    "It should be changed according to your paths (python path especially)."
   ],
   "metadata": {
    "id": "L0Zlk_08JgHU"
   }
  },
  {
   "metadata": {
    "ExecuteTime": {
     "end_time": "2024-10-01T15:24:15.213692Z",
     "start_time": "2024-10-01T15:24:15.207705Z"
    }
   },
   "cell_type": "code",
   "source": "",
   "outputs": [],
   "execution_count": null
  },
  {
   "cell_type": "markdown",
   "source": [
    "# fairnesseval API\n",
    "This tool provides two interfaces for running fairness experiments on your data.\n",
    "\n",
    "**1. Python Interface**\n",
    "You can define the experiment settings in the form of a Python dictionary and use one of the following Python functions to run experiments:\n",
    "    \n",
    "1.1. `fairnesseval.run.launch_experiment_by_id` let you define and organize your experiments in a python module (default at `fairnesseval.experiment_definitions`). Then you will need to call this function by specifying only the id of the experiment you want to run. **This is the reccommended interface.**\n",
    "    \n",
    "1.2. `fairnesseval.run.launch_experiment_by_config` let you run an experiment by passing the dictionary of parameters of your experiment in input.\n",
    "\n",
    "**2. Command Line Interface**\n",
    "Alternatively, you can use the command line interface of `fairnesseval.run` to specify the experiment settings using traditional CLI parameters."
   ],
   "metadata": {
    "id": "ERXd-AUb2Met"
   }
  },
  {
   "cell_type": "markdown",
   "source": [
    "## 1 Python Interface"
   ],
   "metadata": {
    "id": "WcWIJmEn2Qha"
   }
  },
  {
   "cell_type": "markdown",
   "source": [
    "To launch an experiment you can run Python script that read experiment parameters from a module (default at `fairnesseval.experiment_definitions`).\n",
    "\n",
    "Loading experiment definitions is more powerful and flexible, it allows to:\n",
    "\n",
    "*   launch multiple experiments in a row.\n",
    "*   specify multiple datasets.\n",
    "*   specify multiple models.\n",
    "*   configurations are more organized and readable.\n",
    "*   have additional logging.\n",
    "\n",
    "\n"
   ],
   "metadata": {
    "id": "gn5NRU1p2hob"
   }
  },
  {
   "cell_type": "markdown",
   "source": [
    "### TODO: Define your experiment in a file.\n",
    "(You can find example of experiment configuration in `fairnesseval.experiment_definitions`).\n",
    "\n",
    "Eg.: Create `exp_def.py` and define an experiment.\n",
    "```python\n",
    "RANDOM_SEEDs_RESTRICTED_V1 = [1]\n",
    "\n",
    "TRAIN_FRACTIONS_SMALLER_DATASETS_v1 = [0.063, 0.251, 1.]\n",
    "TRAIN_FRACTIONS_v1 = [0.001, 0.004, 0.016, 0.063, 0.251, 1]  # np.geomspace(0.001,1,7) np.linspace(0.001,1,7)\n",
    "\n",
    "experiment_definitions = [\n",
    "    {\n",
    "        'experiment_id': 'new_experiment',\n",
    "        'dataset_names': ('adult_sigmod',),\n",
    "        'model_names': ('LogisticRegression',),\n",
    "        'random_seeds': RANDOM_SEEDs_RESTRICTED_V1,\n",
    "        'results_path': './demo_results'\n",
    "    }\n",
    "]\n",
    "\n",
    "```\n",
    "\n"
   ],
   "metadata": {
    "id": "G_ylbpALJEml"
   }
  },
  {
   "cell_type": "markdown",
   "source": [
    "### Run the experiment\n",
    "Copy the path to the experiment configuration file just defined.\n",
    "\n",
    "In my case: `/content/exp_def.py`\n",
    "\n",
    "Then run the experiment in Colab\n",
    "\n"
   ],
   "metadata": {
    "id": "ZllCbAb1M1IA"
   }
  },
  {
   "cell_type": "code",
   "source": [
    "%load_ext autoreload\n",
    "%autoreload 2"
   ],
   "metadata": {
    "id": "f4pdt-EGVxh9",
    "ExecuteTime": {
     "end_time": "2024-10-01T15:24:15.372307Z",
     "start_time": "2024-10-01T15:24:15.275093Z"
    }
   },
   "outputs": [],
   "execution_count": 2
  },
  {
   "cell_type": "code",
   "source": [
    "import fairnesseval as fe\n",
    "try:\n",
    "    fe.run.launch_experiment_by_id('new_experiment', '/content/exp_def.py')\n",
    "except ModuleNotFoundError as e:\n",
    "    print(e)\n",
    "    print('*'*50 + '\\nFollowing the previous instructions, you should \"Define your experiment in a file\" if you want torun this code.\\n'+ '*'*50)"
   ],
   "metadata": {
    "id": "X1BhG4l2OhRg",
    "outputId": "786b2808-c566-4787-b712-aa0c3f3d92f3",
    "colab": {
     "base_uri": "https://localhost:8080/"
    },
    "ExecuteTime": {
     "end_time": "2024-10-01T15:24:40.338941Z",
     "start_time": "2024-10-01T15:24:15.972684Z"
    }
   },
   "outputs": [
    {
     "name": "stderr",
     "output_type": "stream",
     "text": [
      "C:\\Users\\Chiara\\PycharmProjects\\pythonProject\\.venv\\lib\\site-packages\\inFairness\\utils\\ndcg.py:37: FutureWarning: We've integrated functorch into PyTorch. As the final step of the integration, `functorch.vmap` is deprecated as of PyTorch 2.0 and will be deleted in a future version of PyTorch >= 2.3. Please use `torch.vmap` instead; see the PyTorch 2.0 release notes and/or the `torch.func` migration guide for more details https://pytorch.org/docs/main/func.migrating.html\n",
      "  vect_normalized_discounted_cumulative_gain = vmap(\n",
      "C:\\Users\\Chiara\\PycharmProjects\\pythonProject\\.venv\\lib\\site-packages\\inFairness\\utils\\ndcg.py:48: FutureWarning: We've integrated functorch into PyTorch. As the final step of the integration, `functorch.vmap` is deprecated as of PyTorch 2.0 and will be deleted in a future version of PyTorch >= 2.3. Please use `torch.vmap` instead; see the PyTorch 2.0 release notes and/or the `torch.func` migration guide for more details https://pytorch.org/docs/main/func.migrating.html\n",
      "  monte_carlo_vect_ndcg = vmap(vect_normalized_discounted_cumulative_gain, in_dims=(0,))\n"
     ]
    },
    {
     "name": "stdout",
     "output_type": "stream",
     "text": [
      "No module named 'exp_def'\n",
      "**************************************************\n",
      "Following the previous instructions, you should \"Define your experiment in a file\" if you want torun this code.\n",
      "**************************************************\n"
     ]
    }
   ],
   "execution_count": 3
  },
  {
   "cell_type": "markdown",
   "source": [
    "\n",
    "or save the following code in a .py file to run the experiments.\n",
    "\n",
    "\n",
    "```python\n",
    "# FILE runner.py\n",
    "import fairnesseval as fe\n",
    "\n",
    "if __name__ == \"__main__\":\n",
    "    conf_todo = [\n",
    "        \"new_experiment\",\n",
    "        # ... (list of configurations to be executed)\n",
    "    ]\n",
    "    for x in conf_todo:\n",
    "        fe.run.launch_experiment_by_id(x, '/content/exp_def.py')\n",
    "\n",
    "```\n",
    "\n",
    "Then launch the python script"
   ],
   "metadata": {
    "id": "6TqlxFcPOhjx"
   }
  },
  {
   "cell_type": "code",
   "source": [
    "!python -m runner"
   ],
   "metadata": {
    "id": "yjh9QpMb9kum",
    "outputId": "fcca32f6-5628-4196-ddf6-60be2e34f532",
    "colab": {
     "base_uri": "https://localhost:8080/"
    },
    "ExecuteTime": {
     "end_time": "2024-10-01T15:24:41.410694Z",
     "start_time": "2024-10-01T15:24:40.374566Z"
    }
   },
   "outputs": [
    {
     "name": "stderr",
     "output_type": "stream",
     "text": [
      "C:\\Users\\Chiara\\PycharmProjects\\pythonProject\\.venv\\Scripts\\python.exe: No module named runner\n"
     ]
    }
   ],
   "execution_count": 4
  },
  {
   "cell_type": "markdown",
   "source": [
    "Otherwise you can use `launch_experiment_by_config`.\n",
    "E.g.:"
   ],
   "metadata": {
    "id": "hRokI3ObADED"
   }
  },
  {
   "cell_type": "code",
   "source": [
    "import fairnesseval as fe\n",
    "fe.run.launch_experiment_by_config(\n",
    "    {\n",
    "        'experiment_id': 'new_experiment',\n",
    "        'dataset_names': ['adult_sigmod_no_SA'],\n",
    "        'model_names': ['LogisticRegression'],\n",
    "        'random_seeds': [1],\n",
    "        'results_path': './demo_results'\n",
    "    }\n",
    "    )"
   ],
   "metadata": {
    "id": "VfYrY0e9DpEe",
    "outputId": "5cf60b18-a55b-4b20-aa81-cf8765365fe5",
    "colab": {
     "base_uri": "https://localhost:8080/"
    },
    "ExecuteTime": {
     "end_time": "2024-10-01T15:24:44.136339Z",
     "start_time": "2024-10-01T15:24:41.430642Z"
    }
   },
   "outputs": [
    {
     "name": "stderr",
     "output_type": "stream",
     "text": [
      "01/10/24 17:24:42 INFO:root: Parameters of experiment new_experiment\n",
      "{\"experiment_id\": \"new_experiment\",\n",
      "\t\"dataset_names\": [\"adult_sigmod_no_SA\"],\n",
      "\t\"model_names\": [\"LogisticRegression\"],\n",
      "\t\"random_seeds\": [1],\n",
      "\t\"results_path\": \"./demo_results\"}\n",
      "01/10/24 17:24:42 INFO:root: Started logging.\n",
      "01/10/24 17:24:42 INFO:root: Starting combination: base model: None, dataset_name: adult_sigmod_no_SA, model_name: LogisticRegression\n"
     ]
    },
    {
     "name": "stdout",
     "output_type": "stream",
     "text": [
      "Configuration:\n",
      "experiment_id: new_experiment\n",
      "dataset_name: ['adult_sigmod_no_SA']\n",
      "model_name: ['LogisticRegression']\n",
      "results_path: ./demo_results\n",
      "train_fractions: [1]\n",
      "random_seeds: [1]\n",
      "metrics: default\n",
      "preprocessing: default\n",
      "split_strategy: StratifiedKFold\n",
      "train_test_fold: [0, 1, 2]\n",
      "model_params: {}\n",
      "dataset_params: {}\n",
      "debug: False\n",
      "states: None\n",
      "eps: None\n",
      "constraint_code: None\n",
      "expgrad_fractions: None\n",
      "grid_fractions: None\n",
      "exp_grid_ratio: None\n",
      "exp_subset: None\n",
      "run_linprog_step: None\n",
      "base_model_code: None\n",
      "train_test_seeds: [None]\n",
      "test_size: 0.3\n",
      "redo_tuning: False\n",
      "****************************************************************************************************\n"
     ]
    },
    {
     "name": "stderr",
     "output_type": "stream",
     "text": [
      "0it [00:00, ?it/s]01/10/24 17:24:42 INFO:root: Starting step: random_seed: 1, train_test_seed: 1, train_test_fold: 0 \n",
      "{\"train_fractions\": 1}\n",
      "01/10/24 17:24:42 INFO:root: Starting fit...\n",
      "01/10/24 17:24:43 INFO:root: Ended fit:  in: 0:00:00.094125 ||| Starting evaluation...\n"
     ]
    },
    {
     "name": "stdout",
     "output_type": "stream",
     "text": [
      "\n"
     ]
    },
    {
     "name": "stderr",
     "output_type": "stream",
     "text": [
      "01/10/24 17:24:43 INFO:root: Ended evaluation:  in: 0:00:00.282526\n",
      "01/10/24 17:24:43 INFO:root: Ended step in: 0:00:00.392274\n",
      "1it [00:00,  1.88it/s]01/10/24 17:24:43 INFO:root: Starting step: random_seed: 2, train_test_seed: 1, train_test_fold: 1 \n",
      "{\"train_fractions\": 1}\n",
      "01/10/24 17:24:43 INFO:root: Starting fit...\n",
      "01/10/24 17:24:43 INFO:root: Ended fit:  in: 0:00:00.123760 ||| Starting evaluation...\n"
     ]
    },
    {
     "name": "stdout",
     "output_type": "stream",
     "text": [
      "Saving results in: ./demo_results\\new_experiment\\new_experiment_adult_sigmod_no_SA.csv\n",
      "\n"
     ]
    },
    {
     "name": "stderr",
     "output_type": "stream",
     "text": [
      "01/10/24 17:24:43 INFO:root: Ended evaluation:  in: 0:00:00.277554\n",
      "01/10/24 17:24:43 INFO:root: Ended step in: 0:00:00.416936\n",
      "2it [00:00,  2.15it/s]01/10/24 17:24:43 INFO:root: Starting step: random_seed: 3, train_test_seed: 1, train_test_fold: 2 \n",
      "{\"train_fractions\": 1}\n",
      "01/10/24 17:24:43 INFO:root: Starting fit...\n",
      "01/10/24 17:24:43 INFO:root: Ended fit:  in: 0:00:00.076494 ||| Starting evaluation...\n"
     ]
    },
    {
     "name": "stdout",
     "output_type": "stream",
     "text": [
      "Saving results in: ./demo_results\\new_experiment\\new_experiment_adult_sigmod_no_SA.csv\n",
      "\n"
     ]
    },
    {
     "name": "stderr",
     "output_type": "stream",
     "text": [
      "01/10/24 17:24:44 INFO:root: Ended evaluation:  in: 0:00:00.260488\n",
      "01/10/24 17:24:44 INFO:root: Ended step in: 0:00:00.352634\n",
      "3it [00:01,  2.27it/s]\n",
      "01/10/24 17:24:44 INFO:root: Ended: None, dataset_name: adult_sigmod_no_SA, model_name: LogisticRegression in:\n",
      " 0:00:01.798254\n",
      "01/10/24 17:24:44 INFO:root: Ended experiment. It took: 0:00:02.008473\n"
     ]
    },
    {
     "name": "stdout",
     "output_type": "stream",
     "text": [
      "Saving results in: ./demo_results\\new_experiment\\new_experiment_adult_sigmod_no_SA.csv\n"
     ]
    }
   ],
   "execution_count": 5
  },
  {
   "cell_type": "markdown",
   "source": [
    "## CLI interface\n",
    "The equivalent CLI call to run the experiment defined before is:"
   ],
   "metadata": {
    "id": "NlhpcpCTQQda"
   }
  },
  {
   "cell_type": "code",
   "source": [
    "!python -m fairnesseval.run --dataset_name adult_sigmod_no_SA --model_name LogisticRegression --experiment_id new_experiment --random_seeds 1 --results_path /content/demo_results"
   ],
   "metadata": {
    "id": "kyf4gRHoQZnC",
    "outputId": "2328a7f9-4b29-427e-8ab5-cf33656fd392",
    "colab": {
     "base_uri": "https://localhost:8080/"
    },
    "ExecuteTime": {
     "end_time": "2024-10-01T15:25:09.503193Z",
     "start_time": "2024-10-01T15:24:44.151951Z"
    }
   },
   "outputs": [
    {
     "name": "stdout",
     "output_type": "stream",
     "text": [
      "Configuration:\n",
      "experiment_id: new_experiment\n",
      "dataset_name: ['adult_sigmod_no_SA']\n",
      "model_name: ['LogisticRegression']\n",
      "results_path: /content/demo_results\n",
      "train_fractions: [1]\n",
      "random_seeds: [1]\n",
      "metrics: default\n",
      "preprocessing: default\n",
      "split_strategy: StratifiedKFold\n",
      "train_test_fold: [0, 1, 2]\n",
      "model_params: {}\n",
      "dataset_params: {}\n",
      "debug: False\n",
      "states: None\n",
      "eps: None\n",
      "constraint_code: None\n",
      "expgrad_fractions: None\n",
      "grid_fractions: None\n",
      "exp_grid_ratio: None\n",
      "exp_subset: None\n",
      "run_linprog_step: None\n",
      "base_model_code: None\n",
      "train_test_seeds: [None]\n",
      "test_size: 0.3\n",
      "redo_tuning: False\n",
      "****************************************************************************************************\n",
      "\n",
      "Saving results in: /content/demo_results\\new_experiment\\new_experiment_adult_sigmod_no_SA.csv\n",
      "\n",
      "Saving results in: /content/demo_results\\new_experiment\\new_experiment_adult_sigmod_no_SA.csv\n",
      "\n",
      "Saving results in: /content/demo_results\\new_experiment\\new_experiment_adult_sigmod_no_SA.csv\n"
     ]
    },
    {
     "name": "stderr",
     "output_type": "stream",
     "text": [
      "2024-10-01 17:24:50.890255: I tensorflow/core/util/port.cc:153] oneDNN custom operations are on. You may see slightly different numerical results due to floating-point round-off errors from different computation orders. To turn them off, set the environment variable `TF_ENABLE_ONEDNN_OPTS=0`.\n",
      "2024-10-01 17:24:52.434806: I tensorflow/core/util/port.cc:153] oneDNN custom operations are on. You may see slightly different numerical results due to floating-point round-off errors from different computation orders. To turn them off, set the environment variable `TF_ENABLE_ONEDNN_OPTS=0`.\n",
      "C:\\Users\\Chiara\\PycharmProjects\\pythonProject\\.venv\\lib\\site-packages\\inFairness\\utils\\ndcg.py:37: FutureWarning: We've integrated functorch into PyTorch. As the final step of the integration, `functorch.vmap` is deprecated as of PyTorch 2.0 and will be deleted in a future version of PyTorch >= 2.3. Please use `torch.vmap` instead; see the PyTorch 2.0 release notes and/or the `torch.func` migration guide for more details https://pytorch.org/docs/main/func.migrating.html\n",
      "  vect_normalized_discounted_cumulative_gain = vmap(\n",
      "C:\\Users\\Chiara\\PycharmProjects\\pythonProject\\.venv\\lib\\site-packages\\inFairness\\utils\\ndcg.py:48: FutureWarning: We've integrated functorch into PyTorch. As the final step of the integration, `functorch.vmap` is deprecated as of PyTorch 2.0 and will be deleted in a future version of PyTorch >= 2.3. Please use `torch.vmap` instead; see the PyTorch 2.0 release notes and/or the `torch.func` migration guide for more details https://pytorch.org/docs/main/func.migrating.html\n",
      "  monte_carlo_vect_ndcg = vmap(vect_normalized_discounted_cumulative_gain, in_dims=(0,))\n",
      "C:\\Users\\Chiara\\AppData\\Local\\Programs\\Python\\Python39\\lib\\runpy.py:127: RuntimeWarning: 'fairnesseval.run' found in sys.modules after import of package 'fairnesseval', but prior to execution of 'fairnesseval.run'; this may result in unpredictable behaviour\n",
      "  warn(RuntimeWarning(msg))\n",
      "\n",
      "0it [00:00, ?it/s]\n",
      "1it [00:01,  1.59s/it]\n",
      "2it [00:02,  1.10it/s]\n",
      "3it [00:02,  1.47it/s]\n",
      "3it [00:02,  1.24it/s]\n"
     ]
    }
   ],
   "execution_count": 6
  },
  {
   "cell_type": "code",
   "source": [],
   "metadata": {
    "id": "_JVjlhrfCuZJ",
    "ExecuteTime": {
     "end_time": "2024-10-01T15:25:09.534887Z",
     "start_time": "2024-10-01T15:25:09.519210Z"
    }
   },
   "outputs": [],
   "execution_count": null
  },
  {
   "metadata": {
    "id": "KpUKWAKwQ_HY"
   },
   "cell_type": "markdown",
   "source": [
    "# Saving additional information from models\n",
    "The `fairnesseval` library allows to save additional information from the models, such as the time of each phase of the prediction process or analytics about training process.\n",
    "To do this, you need to define a `get_stats_dict` method in your model class that returns a dictionary with the desired information."
   ]
  }
 ]
}
